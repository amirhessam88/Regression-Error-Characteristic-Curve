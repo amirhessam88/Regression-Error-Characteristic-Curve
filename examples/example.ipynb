{
 "cells": [
  {
   "cell_type": "markdown",
   "source": [
    "# `Example`"
   ],
   "metadata": {}
  },
  {
   "cell_type": "code",
   "execution_count": 15,
   "source": [
    "%load_ext autoreload\n",
    "%autoreload 2\n",
    "from IPython.core.display import display, HTML\n",
    "\n",
    "display(HTML(\"<style>.container { width:95% !important; }</style>\"))"
   ],
   "outputs": [
    {
     "output_type": "stream",
     "name": "stdout",
     "text": [
      "The autoreload extension is already loaded. To reload it, use:\n",
      "  %reload_ext autoreload\n"
     ]
    },
    {
     "output_type": "display_data",
     "data": {
      "text/html": [
       "<style>.container { width:95% !important; }</style>"
      ],
      "text/plain": [
       "<IPython.core.display.HTML object>"
      ]
     },
     "metadata": {}
    }
   ],
   "metadata": {}
  },
  {
   "cell_type": "markdown",
   "source": [
    "### Load Data and Train a Regression Model"
   ],
   "metadata": {}
  },
  {
   "cell_type": "code",
   "execution_count": 16,
   "source": [
    "# load data, train model\n",
    "from sklearn import linear_model, datasets\n",
    "from sklearn.model_selection import cross_val_predict\n",
    "\n",
    "# loading a sample regression dataset\n",
    "boston = datasets.load_boston()\n",
    "X = boston.data\n",
    "y_true = boston.target\n",
    "\n",
    "# defining a simple linear regression model\n",
    "model = linear_model.LinearRegression()\n",
    "\n",
    "# predicting using 4-folds cross-validation\n",
    "y_pred = cross_val_predict(model, X, y_true, cv=4)"
   ],
   "outputs": [
    {
     "output_type": "stream",
     "name": "stderr",
     "text": [
      "/Users/atahmassebi/Desktop/AmirStuff/GitHub/Regression-Error-Characteristic-Curve/.venv/lib/python3.9/site-packages/sklearn/utils/deprecation.py:87: FutureWarning: Function load_boston is deprecated; `load_boston` is deprecated in 1.0 and will be removed in 1.2.\n",
      "\n",
      "    The Boston housing prices dataset has an ethical problem. You can refer to\n",
      "    the documentation of this function for further details.\n",
      "\n",
      "    The scikit-learn maintainers therefore strongly discourage the use of this\n",
      "    dataset unless the purpose of the code is to study and educate about\n",
      "    ethical issues in data science and machine learning.\n",
      "\n",
      "    In this special case, you can fetch the dataset from the original\n",
      "    source::\n",
      "\n",
      "        import pandas as pd\n",
      "        import numpy as np\n",
      "\n",
      "        data_url = \"http://lib.stat.cmu.edu/datasets/boston\"\n",
      "        raw_df = pd.read_csv(data_url, sep=\"\\s+\", skiprows=22, header=None)\n",
      "        data = np.hstack([raw_df.values[::2, :], raw_df.values[1::2, :2]])\n",
      "        target = raw_df.values[1::2, 2]\n",
      "\n",
      "    Alternative datasets include the California housing dataset (i.e.\n",
      "    :func:`~sklearn.datasets.fetch_california_housing`) and the Ames housing\n",
      "    dataset. You can load the datasets as follows::\n",
      "\n",
      "        from sklearn.datasets import fetch_california_housing\n",
      "        housing = fetch_california_housing()\n",
      "\n",
      "    for the California housing dataset and::\n",
      "\n",
      "        from sklearn.datasets import fetch_openml\n",
      "        housing = fetch_openml(name=\"house_prices\", as_frame=True)\n",
      "\n",
      "    for the Ames housing dataset.\n",
      "  warnings.warn(msg, category=FutureWarning)\n"
     ]
    }
   ],
   "metadata": {}
  },
  {
   "cell_type": "markdown",
   "source": [
    "### Let's try to plot REC curve"
   ],
   "metadata": {}
  },
  {
   "cell_type": "code",
   "execution_count": 17,
   "source": [
    "# import the RegressionErrorCharacteristic\n",
    "from rec import RegressionErrorCharacteristic\n",
    "\n",
    "help(RegressionErrorCharacteristic)"
   ],
   "outputs": [
    {
     "output_type": "stream",
     "name": "stdout",
     "text": [
      "Help on class RegressionErrorCharacteristic in module rec._rec:\n",
      "\n",
      "class RegressionErrorCharacteristic(builtins.object)\n",
      " |  RegressionErrorCharacteristic(y_true: Union[List[float], pandas.core.series.Series, numpy.ndarray], y_pred: Union[List[float], pandas.core.series.Series, numpy.ndarray]) -> None\n",
      " |  \n",
      " |  Regression Error Characteristics (REC).\n",
      " |  \n",
      " |  Notes\n",
      " |  -----\n",
      " |  This is wrapper to implement the REC algorithm. The REC is implemented based on the _[1] paper\n",
      " |  and the initial idea originally presented in _[2] paper. The Simpson method is used as the\n",
      " |  integral method to calculate the area under REC.\n",
      " |  \n",
      " |  References\n",
      " |  ---------\n",
      " |  .. [1] Tahmassebi, A., Gandomi, A. H., & Meyer-Baese, A. (2018, July). A Pareto front based\n",
      " |         evolutionary model for airfoil self-noise prediction. In 2018 IEEE Congress on\n",
      " |         Evolutionary Computation (CEC) (pp. 1-8). IEEE.\n",
      " |         https://www.amirhessam.com/assets/pdf/projects/cec-airfoil2018.pdf\n",
      " |  \n",
      " |  .. [2] Bi, J., & Bennett, K. P. (2003). Regression error characteristic curves. In Proceedings\n",
      " |         of the 20th international conference on machine learning (ICML-03) (pp. 43-50).\n",
      " |         https://www.aaai.org/Papers/ICML/2003/ICML03-009.pdf\n",
      " |  \n",
      " |  Parameters\n",
      " |  ----------\n",
      " |  y_true : Union[List[float], pd.Series, np.ndarray]\n",
      " |      Ground truth target (response) values\n",
      " |  \n",
      " |  y_pred : Union[List[float], pd.Series, np.ndarray]\n",
      " |      Predicted target values\n",
      " |  \n",
      " |  Attributes\n",
      " |  ----------\n",
      " |  auc_rec : float\n",
      " |      Area under REC curve with a possible value between 0.0 and 1.0\n",
      " |  \n",
      " |  deviation :  np.ndarray\n",
      " |      Array of deviations to plot REC curve\n",
      " |  \n",
      " |  accuracy :  np.ndarray\n",
      " |      Array of calculated accuracy at each deviation to plot REC curve\n",
      " |  \n",
      " |  plotting_dict : Dict[str, Any]\n",
      " |      Plotting properties\n",
      " |  \n",
      " |  Methods\n",
      " |  -------\n",
      " |  plot(figsize=(8, 5), color=\"navy\", linestyle=\"--\", fontsize=15, save_path=None, display_plot=False, return_fig=False)\n",
      " |      Plots the REC curve\n",
      " |  \n",
      " |  Methods defined here:\n",
      " |  \n",
      " |  __eq__(self, other)\n",
      " |  \n",
      " |  __init__(self, y_true: Union[List[float], pandas.core.series.Series, numpy.ndarray], y_pred: Union[List[float], pandas.core.series.Series, numpy.ndarray]) -> None\n",
      " |  \n",
      " |  __post_init__(self) -> None\n",
      " |  \n",
      " |  __repr__(self)\n",
      " |  \n",
      " |  plot(self, figsize: Optional[Tuple[float, float]] = (8, 5), color: Optional[str] = 'navy', linestyle: Optional[str] = '--', fontsize: Optional[float] = 15.0, save_path: Optional[str] = None, display_plot: Optional[bool] = True, return_fig=False) -> matplotlib.figure.Figure\n",
      " |      Plots the REC curve.\n",
      " |      \n",
      " |      Parameters\n",
      " |      ----------\n",
      " |      figsize : tuple, optional, (default=(8, 5))\n",
      " |          Figure size, by default (8, 5)\n",
      " |      \n",
      " |      color : str, optional\n",
      " |          Color of the curve, by default \"navy\"\n",
      " |      \n",
      " |      linestyle : str, optional\n",
      " |          Line style, by default \"--\"\n",
      " |      \n",
      " |      fontsize : float, optional\n",
      " |          Fontsize for xlabel and ylabel, and ticks parameters, by default 15\n",
      " |      \n",
      " |      save_path : str, optional\n",
      " |          Relative or absolute save path, by default None\n",
      " |      \n",
      " |      display_plot : bool, optional\n",
      " |          Whether to display plot, by default True\n",
      " |      \n",
      " |      return_fig : bool, optional\n",
      " |          Whether to return figure object, by default False\n",
      " |      \n",
      " |      Returns\n",
      " |      -------\n",
      " |      Figure, optional\n",
      " |  \n",
      " |  ----------------------------------------------------------------------\n",
      " |  Data descriptors defined here:\n",
      " |  \n",
      " |  __dict__\n",
      " |      dictionary for instance variables (if defined)\n",
      " |  \n",
      " |  __weakref__\n",
      " |      list of weak references to the object (if defined)\n",
      " |  \n",
      " |  ----------------------------------------------------------------------\n",
      " |  Data and other attributes defined here:\n",
      " |  \n",
      " |  __annotations__ = {'y_pred': typing.Union[typing.List[float], pandas.c...\n",
      " |  \n",
      " |  __dataclass_fields__ = {'y_pred': Field(name='y_pred',type=typing.Unio...\n",
      " |  \n",
      " |  __dataclass_params__ = _DataclassParams(init=True,repr=True,eq=True,or...\n",
      " |  \n",
      " |  __hash__ = None\n",
      "\n"
     ]
    }
   ],
   "metadata": {}
  },
  {
   "cell_type": "code",
   "execution_count": 18,
   "source": [
    "# instantiate the RegressionErrorCharacteristic with y_pred and y_true\n",
    "r = RegressionErrorCharacteristic(y_true, y_pred)\n",
    "\n",
    "# now we can plot the REC curve\n",
    "r.plot()"
   ],
   "outputs": [
    {
     "output_type": "display_data",
     "data": {
      "image/png": "[encoded data removed]",
      "text/plain": [
       "<Figure size 576x360 with 1 Axes>"
      ]
     },
     "metadata": {}
    }
   ],
   "metadata": {}
  },
  {
   "cell_type": "markdown",
   "source": [
    "### We can also access the plotting data directly"
   ],
   "metadata": {}
  },
  {
   "cell_type": "code",
   "execution_count": 19,
   "source": [
    "# area under rec curve\n",
    "r.auc_rec"
   ],
   "outputs": [
    {
     "output_type": "execute_result",
     "data": {
      "text/plain": [
       "0.8348534255599472"
      ]
     },
     "metadata": {},
     "execution_count": 19
    }
   ],
   "metadata": {}
  },
  {
   "cell_type": "code",
   "execution_count": 20,
   "source": [
    "# deviation array\n",
    "r.deviation"
   ],
   "outputs": [
    {
     "output_type": "execute_result",
     "data": {
      "text/plain": [
       "array([0.  , 0.01, 0.02, 0.03, 0.04, 0.05, 0.06, 0.07, 0.08, 0.09, 0.1 ,\n",
       "       0.11, 0.12, 0.13, 0.14, 0.15, 0.16, 0.17, 0.18, 0.19, 0.2 , 0.21,\n",
       "       0.22, 0.23, 0.24, 0.25, 0.26, 0.27, 0.28, 0.29, 0.3 , 0.31, 0.32,\n",
       "       0.33, 0.34, 0.35, 0.36, 0.37, 0.38, 0.39, 0.4 , 0.41, 0.42, 0.43,\n",
       "       0.44, 0.45, 0.46, 0.47, 0.48, 0.49, 0.5 , 0.51, 0.52, 0.53, 0.54,\n",
       "       0.55, 0.56, 0.57, 0.58, 0.59, 0.6 , 0.61, 0.62, 0.63, 0.64, 0.65,\n",
       "       0.66, 0.67, 0.68, 0.69, 0.7 , 0.71, 0.72, 0.73, 0.74, 0.75, 0.76,\n",
       "       0.77, 0.78, 0.79, 0.8 , 0.81, 0.82, 0.83, 0.84, 0.85, 0.86, 0.87,\n",
       "       0.88, 0.89, 0.9 , 0.91, 0.92, 0.93, 0.94, 0.95, 0.96, 0.97, 0.98,\n",
       "       0.99])"
      ]
     },
     "metadata": {},
     "execution_count": 20
    }
   ],
   "metadata": {}
  },
  {
   "cell_type": "code",
   "execution_count": 21,
   "source": [
    "# accuracy array\n",
    "r.accuracy"
   ],
   "outputs": [
    {
     "output_type": "execute_result",
     "data": {
      "text/plain": [
       "array([0.        , 0.04940711, 0.10869565, 0.17391304, 0.22924901,\n",
       "       0.27470356, 0.3201581 , 0.36166008, 0.40711462, 0.44071146,\n",
       "       0.48814229, 0.52766798, 0.56126482, 0.58498024, 0.61660079,\n",
       "       0.64426877, 0.66007905, 0.68181818, 0.7055336 , 0.7173913 ,\n",
       "       0.73517787, 0.75098814, 0.76482213, 0.77667984, 0.78656126,\n",
       "       0.79249012, 0.8083004 , 0.81818182, 0.82608696, 0.83201581,\n",
       "       0.83992095, 0.8458498 , 0.85573123, 0.86758893, 0.87747036,\n",
       "       0.88932806, 0.89525692, 0.90513834, 0.90909091, 0.91897233,\n",
       "       0.9229249 , 0.92885375, 0.93083004, 0.93478261, 0.93873518,\n",
       "       0.94466403, 0.95059289, 0.95059289, 0.95256917, 0.95454545,\n",
       "       0.95652174, 0.96245059, 0.96442688, 0.96442688, 0.96640316,\n",
       "       0.96837945, 0.97035573, 0.97035573, 0.9743083 , 0.97826087,\n",
       "       0.98023715, 0.98221344, 0.98221344, 0.98418972, 0.98616601,\n",
       "       0.98814229, 0.98814229, 0.98814229, 0.98814229, 0.99011858,\n",
       "       0.99011858, 0.99011858, 0.99011858, 0.99011858, 0.99011858,\n",
       "       0.99011858, 0.99011858, 0.99011858, 0.99011858, 0.99011858,\n",
       "       0.99011858, 0.99209486, 0.99209486, 0.99209486, 0.99209486,\n",
       "       0.99209486, 0.99209486, 0.99407115, 0.99407115, 0.99407115,\n",
       "       0.99407115, 0.99604743, 0.99604743, 0.99604743, 0.99604743,\n",
       "       0.99604743, 0.99604743, 0.99604743, 0.99802372, 0.99802372])"
      ]
     },
     "metadata": {},
     "execution_count": 21
    }
   ],
   "metadata": {}
  }
 ],
 "metadata": {
  "kernelspec": {
   "name": "python3",
   "display_name": "Python 3.9.7 64-bit ('.venv': poetry)"
  },
  "language_info": {
   "codemirror_mode": {
    "name": "ipython",
    "version": 3
   },
   "file_extension": ".py",
   "mimetype": "text/x-python",
   "name": "python",
   "nbconvert_exporter": "python",
   "pygments_lexer": "ipython3",
   "version": "3.9.7"
  },
  "interpreter": {
   "hash": "a1c1f94365e24cc6d210f86a352dff528b0f0a8561e3239981242d9a8a7fb53b"
  }
 },
 "nbformat": 4,
 "nbformat_minor": 4
}